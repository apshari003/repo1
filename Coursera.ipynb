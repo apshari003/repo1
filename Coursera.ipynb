{
 "cells": [
  {
   "cell_type": "markdown",
   "id": "9c43d3de",
   "metadata": {},
   "source": [
    "# My Jupyter Notebook on IBM Watson Studio"
   ]
  },
  {
   "cell_type": "markdown",
   "id": "6bddab1e",
   "metadata": {},
   "source": [
    "__AJAY PRATAP SINGH HARI__\n",
    "\n",
    "Student"
   ]
  },
  {
   "cell_type": "markdown",
   "id": "1f500a2c",
   "metadata": {},
   "source": [
    "*I am interested in data science because it helps in making sense of data sets and using them for extrapolation and forecasting.*"
   ]
  },
  {
   "cell_type": "markdown",
   "id": "e4fa0fa8",
   "metadata": {},
   "source": [
    "### The code in cell 4 expresses z as the sum of two numbers, x and y."
   ]
  },
  {
   "cell_type": "code",
   "execution_count": 5,
   "id": "427806f6",
   "metadata": {},
   "outputs": [
    {
     "name": "stdout",
     "output_type": "stream",
     "text": [
      "5\n"
     ]
    }
   ],
   "source": [
    "x=3\n",
    "y=2\n",
    "z=x+y\n",
    "print (z)"
   ]
  },
  {
   "cell_type": "markdown",
   "id": "07f0a91f",
   "metadata": {},
   "source": [
    "- red\n",
    "- green\n",
    "- blue\n",
    "\n",
    "1. car\n",
    "1. scooter\n",
    "1. truck\n",
    "\n",
    "~~Analytics~~\n",
    "\n",
    "---\n",
    "\n",
    ">Thankyou!\n",
    "\n",
    "\n"
   ]
  },
  {
   "cell_type": "code",
   "execution_count": null,
   "id": "ece19f91",
   "metadata": {},
   "outputs": [],
   "source": []
  }
 ],
 "metadata": {
  "kernelspec": {
   "display_name": "Python 3 (ipykernel)",
   "language": "python",
   "name": "python3"
  },
  "language_info": {
   "codemirror_mode": {
    "name": "ipython",
    "version": 3
   },
   "file_extension": ".py",
   "mimetype": "text/x-python",
   "name": "python",
   "nbconvert_exporter": "python",
   "pygments_lexer": "ipython3",
   "version": "3.9.7"
  }
 },
 "nbformat": 4,
 "nbformat_minor": 5
}
